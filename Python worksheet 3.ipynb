{
 "cells": [
  {
   "cell_type": "code",
   "execution_count": 6,
   "metadata": {},
   "outputs": [
    {
     "name": "stdout",
     "output_type": "stream",
     "text": [
      "Please enter the no. for number of layers Of Pyramid : 8\n",
      "              *   \n",
      "             *  *   \n",
      "            *  *  *   \n",
      "           *  *  *  *   \n",
      "          *  *  *  *  *   \n",
      "         *  *  *  *  *  *   \n",
      "        *  *  *  *  *  *  *   \n",
      "       *  *  *  *  *  *  *  *   \n"
     ]
    }
   ],
   "source": [
    "## Question 11, Python Worksheet 3\n",
    "\n",
    "\n",
    "n = int(input(\"Please enter the no. for number of layers Of Pyramid : \"))\n",
    "m = (2 * n) - 2\n",
    "for i in range(0, n):\n",
    "    for j in range(0, m):\n",
    "        print(end=\" \")\n",
    "    m = m - 1  \n",
    "    for j in range(0, i + 1):\n",
    "        print(\"* \", end=' ')\n",
    "    print(\" \")"
   ]
  },
  {
   "cell_type": "code",
   "execution_count": 24,
   "metadata": {},
   "outputs": [
    {
     "name": "stdout",
     "output_type": "stream",
     "text": [
      "Please enter the no. for size of Hourglass: 5\n",
      "   * * * * * * \n",
      "    * * * * * \n",
      "     * * * * \n",
      "      * * * \n",
      "       * * \n",
      "        * \n",
      "        * \n",
      "       * * \n",
      "      * * * \n",
      "     * * * * \n",
      "    * * * * * \n",
      "   * * * * * * \n"
     ]
    }
   ],
   "source": [
    "## Question 12, Python Worksheet 3\n",
    "\n",
    "\n",
    "n = int(input(\"Please enter the no. for size of Hourglass: \"))\n",
    "k = n - 2\n",
    "for i in range(n, -1 , -1):\n",
    "    for j in range(k , 0 , -1):\n",
    "         print(end=\" \")\n",
    "    k = k + 1    \n",
    "    for j in range(0, i+1):\n",
    "        print(\"* \" , end=\"\")   \n",
    "    print(\"\\r\")\n",
    "k = 2 * n  - 2\n",
    "for i in range(0 , n+1):\n",
    "    for j in range(0 , k):\n",
    "        print(end=\" \")\n",
    "    k = k - 1\n",
    "    for j in range(0, i + 1):\n",
    "        print(\"* \", end=\"\")\n",
    "    print(\"\\r\")"
   ]
  },
  {
   "cell_type": "code",
   "execution_count": 25,
   "metadata": {},
   "outputs": [
    {
     "name": "stdout",
     "output_type": "stream",
     "text": [
      "Please enter the no. for size of Diamond: 8\n",
      "              * \n",
      "             * * \n",
      "            * * * \n",
      "           * * * * \n",
      "          * * * * * \n",
      "         * * * * * * \n",
      "        * * * * * * * \n",
      "       * * * * * * * * \n",
      "      * * * * * * * * * \n",
      "       * * * * * * * * \n",
      "        * * * * * * * \n",
      "         * * * * * * \n",
      "          * * * * * \n",
      "           * * * * \n",
      "            * * * \n",
      "             * * \n",
      "              * \n"
     ]
    }
   ],
   "source": [
    "## Question 14, Python Worksheet 3\n",
    "\n",
    "\n",
    "n = int(input(\"Please enter the no. for size of Diamond: \"))\n",
    "\n",
    "k = 2 * n - 2\n",
    "for i in range(0, n):\n",
    "    for j in range(0 , k):\n",
    "        print(end=\" \")\n",
    "    k = k - 1\n",
    "    for j in range(0 , i + 1 ):\n",
    "        print(\"* \", end=\"\")\n",
    "    print(\"\\r\")\n",
    "k = n - 2\n",
    "for i in range(n , -1, -1):\n",
    "    for j in range(k , 0 , -1): \n",
    "        print(end=\" \")\n",
    "    k = k + 1\n",
    "    for j in range(0 , i + 1):\n",
    "        print(\"* \", end=\"\")\n",
    "    print(\"\\r\")\n",
    " "
   ]
  },
  {
   "cell_type": "code",
   "execution_count": null,
   "metadata": {},
   "outputs": [],
   "source": []
  }
 ],
 "metadata": {
  "kernelspec": {
   "display_name": "Python 3",
   "language": "python",
   "name": "python3"
  },
  "language_info": {
   "codemirror_mode": {
    "name": "ipython",
    "version": 3
   },
   "file_extension": ".py",
   "mimetype": "text/x-python",
   "name": "python",
   "nbconvert_exporter": "python",
   "pygments_lexer": "ipython3",
   "version": "3.7.6"
  }
 },
 "nbformat": 4,
 "nbformat_minor": 4
}
