{
 "cells": [
  {
   "cell_type": "markdown",
   "metadata": {},
   "source": [
    "## For solving Quadratice equation"
   ]
  },
  {
   "cell_type": "code",
   "execution_count": 1,
   "metadata": {},
   "outputs": [
    {
     "name": "stdout",
     "output_type": "stream",
     "text": [
      "Quadratic function : (ax**2) + bx + c\n",
      "Value of a: 2\n",
      "Value of b: 5\n",
      "value of c: 3\n",
      "There are 2 roots: -1.000000 and -1.500000\n"
     ]
    }
   ],
   "source": [
    "from math import sqrt\n",
    "print(\"Quadratic function : (ax**2) + bx + c\")\n",
    "a = float(input(\"Value of a: \"))\n",
    "b = float(input(\"Value of b: \"))\n",
    "c = float(input(\"value of c: \"))\n",
    "\n",
    "r = b**2 - 4*a*c\n",
    "\n",
    "if r > 0:\n",
    "    num_roots = 2\n",
    "    x1 = (((-b) + sqrt(r))/(2*a))     \n",
    "    x2 = (((-b) - sqrt(r))/(2*a))\n",
    "    print(\"There are 2 roots: %f and %f\" % (x1, x2))\n",
    "    \n",
    "elif r == 0:\n",
    "    num_roots = 1\n",
    "    x = (-b) / 2*a\n",
    "    print(\"There is one root: \", x)\n",
    "    \n",
    "else:\n",
    "    num_roots = 0\n",
    "    print(\"No roots, discriminant < 0.\")\n",
    "    exit()"
   ]
  },
  {
   "cell_type": "markdown",
   "metadata": {},
   "source": [
    "## Another way"
   ]
  },
  {
   "cell_type": "code",
   "execution_count": 2,
   "metadata": {},
   "outputs": [
    {
     "name": "stdout",
     "output_type": "stream",
     "text": [
      "Quadratic equation: ax**2+bx+c=0\n",
      "Enter the value of a: trefs\n",
      "Sorry, I didn't understand that.Please try again with a valid number.\n",
      "Enter the value of a: 0\n",
      "Enter the value of b: 4\n",
      "Enter the value of c: 7\n",
      "Sorry, your response must not be negative or zero for a.\n",
      "Enter the value of a: 3\n",
      "Enter the value of b: 8\n",
      "Enter the value of c: 5\n",
      "There are 2 roots: -1.000000 and -1.666667\n"
     ]
    }
   ],
   "source": [
    "from math import sqrt\n",
    "\n",
    "print(\"Quadratic equation: ax**2+bx+c=0\")\n",
    "\n",
    "while True:\n",
    "    try:\n",
    "        a = int(input('Enter the value of a: '))\n",
    "        b = int(input('Enter the value of b: '))\n",
    "        c = int(input('Enter the value of c: '))\n",
    "    \n",
    "    except ValueError:\n",
    "        print(\"Sorry, I didn't understand that.Please try again with a valid number.\")\n",
    "        continue\n",
    "    if a == 0:\n",
    "        print(\"Sorry, your response must not be negative or zero for a.\")\n",
    "        continue\n",
    "    else:\n",
    "        r = b**2 - 4*a*c\n",
    "        if r > 0:\n",
    "            num_roots = 2\n",
    "            x1 = (((-b) + sqrt(r))/(2*a))     \n",
    "            x2 = (((-b) - sqrt(r))/(2*a))\n",
    "            print(\"There are 2 roots: %f and %f\" % (x1, x2))\n",
    "        elif r == 0:\n",
    "            num_roots = 1\n",
    "            x = (-b) / 2*a\n",
    "            print(\"There is one root: \", x)\n",
    "        else:\n",
    "            num_roots = 0\n",
    "            print(\"No roots, discriminant < 0.\")\n",
    "            exit()\n",
    "        break   "
   ]
  },
  {
   "cell_type": "code",
   "execution_count": null,
   "metadata": {},
   "outputs": [],
   "source": []
  }
 ],
 "metadata": {
  "kernelspec": {
   "display_name": "Python 3",
   "language": "python",
   "name": "python3"
  },
  "language_info": {
   "codemirror_mode": {
    "name": "ipython",
    "version": 3
   },
   "file_extension": ".py",
   "mimetype": "text/x-python",
   "name": "python",
   "nbconvert_exporter": "python",
   "pygments_lexer": "ipython3",
   "version": "3.7.6"
  }
 },
 "nbformat": 4,
 "nbformat_minor": 4
}
